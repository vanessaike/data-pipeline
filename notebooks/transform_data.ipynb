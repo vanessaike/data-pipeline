{
 "cells": [
  {
   "cell_type": "markdown",
   "metadata": {},
   "source": [
    "# MongoDB Connection #"
   ]
  },
  {
   "cell_type": "code",
   "execution_count": null,
   "metadata": {},
   "outputs": [],
   "source": [
    "import os\n",
    "from dotenv import load_dotenv\n",
    "from pymongo.mongo_client import MongoClient\n",
    "from pymongo.server_api import ServerApi\n",
    "load_dotenv()"
   ]
  },
  {
   "cell_type": "code",
   "execution_count": null,
   "metadata": {},
   "outputs": [],
   "source": [
    "mongodb_user = os.getenv(\"MONGODB_USER\")\n",
    "mongodb_password = os.getenv(\"MONGODB_PASSOWORD\")\n",
    "mongodb_cluster = os.getenv(\"MONGODB_CLUSTER\")\n",
    "\n",
    "uri = f\"mongodb+srv://{mongodb_user}:{mongodb_password}@{mongodb_cluster}.g7v04mw.mongodb.net/?retryWrites=true&w=majority\"\n",
    "client = MongoClient(uri, server_api=ServerApi('1'))\n",
    "\n",
    "try:\n",
    "    client.admin.command('ping')\n",
    "    print(\"Pinged your deployment. You successfully connected to MongoDB!\")\n",
    "except Exception as e:\n",
    "    print(e)"
   ]
  },
  {
   "cell_type": "markdown",
   "metadata": {},
   "source": [
    "# Reading data #"
   ]
  },
  {
   "cell_type": "code",
   "execution_count": null,
   "metadata": {},
   "outputs": [],
   "source": [
    "db = client[\"db_products\"]\n",
    "collection = db[\"products\"]"
   ]
  },
  {
   "cell_type": "code",
   "execution_count": null,
   "metadata": {},
   "outputs": [],
   "source": [
    "for doc in collection.find():\n",
    "    print(doc)"
   ]
  },
  {
   "cell_type": "markdown",
   "metadata": {},
   "source": [
    "Changing coordinates name:"
   ]
  },
  {
   "cell_type": "code",
   "execution_count": null,
   "metadata": {},
   "outputs": [],
   "source": [
    "collection.update_many({}, {\"$rename\": {\"lat\": \"Latitude\", \"lon\": \"Longitude\"}})"
   ]
  },
  {
   "cell_type": "code",
   "execution_count": null,
   "metadata": {},
   "outputs": [],
   "source": [
    "collection.find_one()"
   ]
  },
  {
   "cell_type": "markdown",
   "metadata": {},
   "source": [
    "# Applying transformations: filtering by category (books) #"
   ]
  },
  {
   "cell_type": "markdown",
   "metadata": {},
   "source": [
    "Returning all categories in the database (unique):"
   ]
  },
  {
   "cell_type": "code",
   "execution_count": null,
   "metadata": {},
   "outputs": [],
   "source": [
    "collection.distinct(\"Categoria do Produto\")"
   ]
  },
  {
   "cell_type": "markdown",
   "metadata": {},
   "source": [
    "Query to get only products which the category is \"livros\":"
   ]
  },
  {
   "cell_type": "code",
   "execution_count": null,
   "metadata": {},
   "outputs": [],
   "source": [
    "query = {\"Categoria do Produto\": \"livros\"}\n",
    "books_list = []\n",
    "\n",
    "for doc in collection.find(query):\n",
    "    books_list.append(doc)"
   ]
  },
  {
   "cell_type": "markdown",
   "metadata": {},
   "source": [
    "# Saving data to a dataframe #"
   ]
  },
  {
   "cell_type": "code",
   "execution_count": null,
   "metadata": {},
   "outputs": [],
   "source": [
    "import pandas as pd"
   ]
  },
  {
   "cell_type": "code",
   "execution_count": null,
   "metadata": {},
   "outputs": [],
   "source": [
    "df_books = pd.DataFrame(books_list)\n",
    "df_books"
   ]
  },
  {
   "cell_type": "markdown",
   "metadata": {},
   "source": [
    "# Formatting dates #\n",
    "The dates are formatted as \"dd/mm/aaaa\" and they must be like \"yyyy-mm-dd\" in order to be accepted as dates in a MySQL database."
   ]
  },
  {
   "cell_type": "code",
   "execution_count": null,
   "metadata": {},
   "outputs": [],
   "source": [
    "df_books.info()"
   ]
  },
  {
   "cell_type": "markdown",
   "metadata": {},
   "source": [
    "The \"Data da Compra\" field is a string, so we must convert it to a datetime type:"
   ]
  },
  {
   "cell_type": "code",
   "execution_count": null,
   "metadata": {},
   "outputs": [],
   "source": [
    "df_books[\"Data da Compra\"] = pd.to_datetime(df_books[\"Data da Compra\"], format=\"%d/%m/%Y\")\n",
    "df_books.info()"
   ]
  },
  {
   "cell_type": "code",
   "execution_count": 13,
   "metadata": {},
   "outputs": [
    {
     "data": {
      "text/html": [
       "<div>\n",
       "<style scoped>\n",
       "    .dataframe tbody tr th:only-of-type {\n",
       "        vertical-align: middle;\n",
       "    }\n",
       "\n",
       "    .dataframe tbody tr th {\n",
       "        vertical-align: top;\n",
       "    }\n",
       "\n",
       "    .dataframe thead th {\n",
       "        text-align: right;\n",
       "    }\n",
       "</style>\n",
       "<table border=\"1\" class=\"dataframe\">\n",
       "  <thead>\n",
       "    <tr style=\"text-align: right;\">\n",
       "      <th></th>\n",
       "      <th>_id</th>\n",
       "      <th>Produto</th>\n",
       "      <th>Categoria do Produto</th>\n",
       "      <th>Preço</th>\n",
       "      <th>Frete</th>\n",
       "      <th>Data da Compra</th>\n",
       "      <th>Vendedor</th>\n",
       "      <th>Local da compra</th>\n",
       "      <th>Avaliação da compra</th>\n",
       "      <th>Tipo de pagamento</th>\n",
       "      <th>Quantidade de parcelas</th>\n",
       "      <th>Latitude</th>\n",
       "      <th>Longitude</th>\n",
       "    </tr>\n",
       "  </thead>\n",
       "  <tbody>\n",
       "    <tr>\n",
       "      <th>0</th>\n",
       "      <td>65cfdf2e0db5537846c1cc94</td>\n",
       "      <td>Modelagem preditiva</td>\n",
       "      <td>livros</td>\n",
       "      <td>92.45</td>\n",
       "      <td>5.609697</td>\n",
       "      <td>2020-01-01</td>\n",
       "      <td>Thiago Silva</td>\n",
       "      <td>BA</td>\n",
       "      <td>1</td>\n",
       "      <td>cartao_credito</td>\n",
       "      <td>3</td>\n",
       "      <td>-13.29</td>\n",
       "      <td>-41.71</td>\n",
       "    </tr>\n",
       "    <tr>\n",
       "      <th>1</th>\n",
       "      <td>65cfdf2e0db5537846c1cc95</td>\n",
       "      <td>Iniciando em programação</td>\n",
       "      <td>livros</td>\n",
       "      <td>43.84</td>\n",
       "      <td>0.000000</td>\n",
       "      <td>2020-01-01</td>\n",
       "      <td>Mariana Ferreira</td>\n",
       "      <td>SP</td>\n",
       "      <td>5</td>\n",
       "      <td>cartao_credito</td>\n",
       "      <td>1</td>\n",
       "      <td>-22.19</td>\n",
       "      <td>-48.79</td>\n",
       "    </tr>\n",
       "    <tr>\n",
       "      <th>2</th>\n",
       "      <td>65cfdf2e0db5537846c1cca7</td>\n",
       "      <td>Iniciando em programação</td>\n",
       "      <td>livros</td>\n",
       "      <td>63.25</td>\n",
       "      <td>3.894137</td>\n",
       "      <td>2022-01-01</td>\n",
       "      <td>Juliana Costa</td>\n",
       "      <td>RJ</td>\n",
       "      <td>5</td>\n",
       "      <td>cartao_credito</td>\n",
       "      <td>4</td>\n",
       "      <td>-22.25</td>\n",
       "      <td>-42.66</td>\n",
       "    </tr>\n",
       "    <tr>\n",
       "      <th>3</th>\n",
       "      <td>65cfdf2e0db5537846c1ccb5</td>\n",
       "      <td>Ciência de dados com python</td>\n",
       "      <td>livros</td>\n",
       "      <td>86.13</td>\n",
       "      <td>5.273176</td>\n",
       "      <td>2021-02-01</td>\n",
       "      <td>Camila Ribeiro</td>\n",
       "      <td>RJ</td>\n",
       "      <td>4</td>\n",
       "      <td>cartao_credito</td>\n",
       "      <td>3</td>\n",
       "      <td>-22.25</td>\n",
       "      <td>-42.66</td>\n",
       "    </tr>\n",
       "    <tr>\n",
       "      <th>4</th>\n",
       "      <td>65cfdf2e0db5537846c1ccb7</td>\n",
       "      <td>Ciência de dados com python</td>\n",
       "      <td>livros</td>\n",
       "      <td>72.75</td>\n",
       "      <td>1.458158</td>\n",
       "      <td>2021-02-01</td>\n",
       "      <td>Beatriz Moraes</td>\n",
       "      <td>PR</td>\n",
       "      <td>4</td>\n",
       "      <td>cartao_credito</td>\n",
       "      <td>2</td>\n",
       "      <td>-24.89</td>\n",
       "      <td>-51.55</td>\n",
       "    </tr>\n",
       "    <tr>\n",
       "      <th>...</th>\n",
       "      <td>...</td>\n",
       "      <td>...</td>\n",
       "      <td>...</td>\n",
       "      <td>...</td>\n",
       "      <td>...</td>\n",
       "      <td>...</td>\n",
       "      <td>...</td>\n",
       "      <td>...</td>\n",
       "      <td>...</td>\n",
       "      <td>...</td>\n",
       "      <td>...</td>\n",
       "      <td>...</td>\n",
       "      <td>...</td>\n",
       "    </tr>\n",
       "    <tr>\n",
       "      <th>737</th>\n",
       "      <td>65cfdf2e0db5537846c1f12f</td>\n",
       "      <td>Dashboards com Power BI</td>\n",
       "      <td>livros</td>\n",
       "      <td>41.27</td>\n",
       "      <td>2.728608</td>\n",
       "      <td>2022-07-31</td>\n",
       "      <td>João Souza</td>\n",
       "      <td>SC</td>\n",
       "      <td>5</td>\n",
       "      <td>cartao_credito</td>\n",
       "      <td>12</td>\n",
       "      <td>-27.45</td>\n",
       "      <td>-50.95</td>\n",
       "    </tr>\n",
       "    <tr>\n",
       "      <th>738</th>\n",
       "      <td>65cfdf2e0db5537846c1f133</td>\n",
       "      <td>Ciência de dados com python</td>\n",
       "      <td>livros</td>\n",
       "      <td>81.58</td>\n",
       "      <td>4.632666</td>\n",
       "      <td>2020-08-31</td>\n",
       "      <td>Juliana Costa</td>\n",
       "      <td>SP</td>\n",
       "      <td>5</td>\n",
       "      <td>cartao_credito</td>\n",
       "      <td>2</td>\n",
       "      <td>-22.19</td>\n",
       "      <td>-48.79</td>\n",
       "    </tr>\n",
       "    <tr>\n",
       "      <th>739</th>\n",
       "      <td>65cfdf2e0db5537846c1f139</td>\n",
       "      <td>Modelagem preditiva</td>\n",
       "      <td>livros</td>\n",
       "      <td>109.17</td>\n",
       "      <td>6.701389</td>\n",
       "      <td>2021-08-31</td>\n",
       "      <td>Felipe Santos</td>\n",
       "      <td>MG</td>\n",
       "      <td>3</td>\n",
       "      <td>cartao_credito</td>\n",
       "      <td>3</td>\n",
       "      <td>-18.10</td>\n",
       "      <td>-44.38</td>\n",
       "    </tr>\n",
       "    <tr>\n",
       "      <th>740</th>\n",
       "      <td>65cfdf2e0db5537846c1f145</td>\n",
       "      <td>Modelagem preditiva</td>\n",
       "      <td>livros</td>\n",
       "      <td>94.89</td>\n",
       "      <td>5.578872</td>\n",
       "      <td>2022-08-31</td>\n",
       "      <td>Pedro Gomes</td>\n",
       "      <td>SP</td>\n",
       "      <td>5</td>\n",
       "      <td>cartao_credito</td>\n",
       "      <td>1</td>\n",
       "      <td>-22.19</td>\n",
       "      <td>-48.79</td>\n",
       "    </tr>\n",
       "    <tr>\n",
       "      <th>741</th>\n",
       "      <td>65cfdf2e0db5537846c1f16b</td>\n",
       "      <td>Dashboards com Power BI</td>\n",
       "      <td>livros</td>\n",
       "      <td>54.85</td>\n",
       "      <td>3.451702</td>\n",
       "      <td>2022-12-31</td>\n",
       "      <td>Lucas Oliveira</td>\n",
       "      <td>RJ</td>\n",
       "      <td>5</td>\n",
       "      <td>cartao_credito</td>\n",
       "      <td>3</td>\n",
       "      <td>-22.25</td>\n",
       "      <td>-42.66</td>\n",
       "    </tr>\n",
       "  </tbody>\n",
       "</table>\n",
       "<p>742 rows × 13 columns</p>\n",
       "</div>"
      ],
      "text/plain": [
       "                          _id                      Produto  \\\n",
       "0    65cfdf2e0db5537846c1cc94          Modelagem preditiva   \n",
       "1    65cfdf2e0db5537846c1cc95     Iniciando em programação   \n",
       "2    65cfdf2e0db5537846c1cca7     Iniciando em programação   \n",
       "3    65cfdf2e0db5537846c1ccb5  Ciência de dados com python   \n",
       "4    65cfdf2e0db5537846c1ccb7  Ciência de dados com python   \n",
       "..                        ...                          ...   \n",
       "737  65cfdf2e0db5537846c1f12f      Dashboards com Power BI   \n",
       "738  65cfdf2e0db5537846c1f133  Ciência de dados com python   \n",
       "739  65cfdf2e0db5537846c1f139          Modelagem preditiva   \n",
       "740  65cfdf2e0db5537846c1f145          Modelagem preditiva   \n",
       "741  65cfdf2e0db5537846c1f16b      Dashboards com Power BI   \n",
       "\n",
       "    Categoria do Produto   Preço     Frete Data da Compra          Vendedor  \\\n",
       "0                 livros   92.45  5.609697     2020-01-01      Thiago Silva   \n",
       "1                 livros   43.84  0.000000     2020-01-01  Mariana Ferreira   \n",
       "2                 livros   63.25  3.894137     2022-01-01     Juliana Costa   \n",
       "3                 livros   86.13  5.273176     2021-02-01    Camila Ribeiro   \n",
       "4                 livros   72.75  1.458158     2021-02-01    Beatriz Moraes   \n",
       "..                   ...     ...       ...            ...               ...   \n",
       "737               livros   41.27  2.728608     2022-07-31        João Souza   \n",
       "738               livros   81.58  4.632666     2020-08-31     Juliana Costa   \n",
       "739               livros  109.17  6.701389     2021-08-31     Felipe Santos   \n",
       "740               livros   94.89  5.578872     2022-08-31       Pedro Gomes   \n",
       "741               livros   54.85  3.451702     2022-12-31    Lucas Oliveira   \n",
       "\n",
       "    Local da compra  Avaliação da compra Tipo de pagamento  \\\n",
       "0                BA                    1    cartao_credito   \n",
       "1                SP                    5    cartao_credito   \n",
       "2                RJ                    5    cartao_credito   \n",
       "3                RJ                    4    cartao_credito   \n",
       "4                PR                    4    cartao_credito   \n",
       "..              ...                  ...               ...   \n",
       "737              SC                    5    cartao_credito   \n",
       "738              SP                    5    cartao_credito   \n",
       "739              MG                    3    cartao_credito   \n",
       "740              SP                    5    cartao_credito   \n",
       "741              RJ                    5    cartao_credito   \n",
       "\n",
       "     Quantidade de parcelas  Latitude  Longitude  \n",
       "0                         3    -13.29     -41.71  \n",
       "1                         1    -22.19     -48.79  \n",
       "2                         4    -22.25     -42.66  \n",
       "3                         3    -22.25     -42.66  \n",
       "4                         2    -24.89     -51.55  \n",
       "..                      ...       ...        ...  \n",
       "737                      12    -27.45     -50.95  \n",
       "738                       2    -22.19     -48.79  \n",
       "739                       3    -18.10     -44.38  \n",
       "740                       1    -22.19     -48.79  \n",
       "741                       3    -22.25     -42.66  \n",
       "\n",
       "[742 rows x 13 columns]"
      ]
     },
     "execution_count": 13,
     "metadata": {},
     "output_type": "execute_result"
    }
   ],
   "source": [
    "df_books[\"Data da Compra\"] = df_books[\"Data da Compra\"].dt.strftime(\"%Y-%m-%d\")\n",
    "df_books"
   ]
  },
  {
   "cell_type": "markdown",
   "metadata": {},
   "source": [
    "# Saving the data as a CSV file #"
   ]
  },
  {
   "cell_type": "code",
   "execution_count": 14,
   "metadata": {},
   "outputs": [],
   "source": [
    "df_books.to_csv(\"../data/table_books.csv\", index=False)"
   ]
  }
 ],
 "metadata": {
  "kernelspec": {
   "display_name": "venv",
   "language": "python",
   "name": "python3"
  },
  "language_info": {
   "codemirror_mode": {
    "name": "ipython",
    "version": 3
   },
   "file_extension": ".py",
   "mimetype": "text/x-python",
   "name": "python",
   "nbconvert_exporter": "python",
   "pygments_lexer": "ipython3",
   "version": "3.10.12"
  }
 },
 "nbformat": 4,
 "nbformat_minor": 2
}
