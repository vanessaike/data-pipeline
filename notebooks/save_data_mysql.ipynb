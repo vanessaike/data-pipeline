{
 "cells": [
  {
   "cell_type": "markdown",
   "metadata": {},
   "source": [
    "# Configuring MySQL #"
   ]
  },
  {
   "cell_type": "code",
   "execution_count": null,
   "metadata": {},
   "outputs": [],
   "source": [
    "import os\n",
    "import pandas as pd\n",
    "from dotenv import load_dotenv\n",
    "import mysql.connector\n",
    "\n",
    "load_dotenv()\n",
    "\n",
    "mysql_host = os.getenv(\"MYSQL_HOST\")\n",
    "mysql_user = os.getenv(\"MYSQL_USER\")\n",
    "mysql_password =os.getenv(\"MYSQL_PASSWORD\")\n",
    "\n",
    "connection = mysql.connector.connect(\n",
    "    host=f\"{mysql_host}\",\n",
    "    user=f\"{mysql_user}\",\n",
    "    password=f\"{mysql_password}\"\n",
    ")\n",
    "\n",
    "connection"
   ]
  },
  {
   "cell_type": "markdown",
   "metadata": {},
   "source": [
    "We create a cursor, which is an object used to execute SQL instructions:"
   ]
  },
  {
   "cell_type": "code",
   "execution_count": null,
   "metadata": {},
   "outputs": [],
   "source": [
    "cursor = connection.cursor()"
   ]
  },
  {
   "cell_type": "markdown",
   "metadata": {},
   "source": [
    "# Creating a database #\n",
    "We use the execute() method to compile a SQL instruction:"
   ]
  },
  {
   "cell_type": "code",
   "execution_count": null,
   "metadata": {},
   "outputs": [],
   "source": [
    "cursor.execute(\"CREATE DATABASE IF NOT EXISTS dbproducts;\")"
   ]
  },
  {
   "cell_type": "markdown",
   "metadata": {},
   "source": [
    "Checking if the database was created successfully:"
   ]
  },
  {
   "cell_type": "code",
   "execution_count": null,
   "metadata": {},
   "outputs": [],
   "source": [
    "cursor.execute(\"SHOW DATABASES;\")\n",
    "\n",
    "# the cursor will return more than one result, so we need to use a loop to get all results\n",
    "for db in cursor:\n",
    "    print(db)"
   ]
  },
  {
   "cell_type": "markdown",
   "metadata": {},
   "source": [
    "# Creating a table in MySQL #"
   ]
  },
  {
   "cell_type": "markdown",
   "metadata": {},
   "source": [
    "Checking the columns needed to create the database"
   ]
  },
  {
   "cell_type": "code",
   "execution_count": null,
   "metadata": {},
   "outputs": [],
   "source": [
    "df_books = pd.read_csv(\"/home/vanessaike/Estudos/pipeline-python-mongodb-mysql/data/table_books.csv\")\n",
    "df_books.columns"
   ]
  },
  {
   "cell_type": "markdown",
   "metadata": {},
   "source": [
    "Creating the table"
   ]
  },
  {
   "cell_type": "code",
   "execution_count": null,
   "metadata": {},
   "outputs": [],
   "source": [
    "cursor.execute(\"\"\"\n",
    "    CREATE TABLE IF NOT EXISTS dbproducts.tbbooks(\n",
    "        id VARCHAR(100),\n",
    "        Produto VARCHAR(100),\n",
    "        Categoria_Produto VARCHAR(100),\n",
    "        Preco FLOAT(10, 2),\n",
    "        Frete FLOAT(10, 2),\n",
    "        Data_Compra DATE,\n",
    "        Vendedor VARCHAR(100),\n",
    "        Local_Compra VARCHAR(100),\n",
    "        Avaliacao_Compra INT,\n",
    "        Tipo_Pagamento VARCHAR(100),\n",
    "        Qntd_Parcelas INT,\n",
    "        Latitude FLOAT(10, 2),\n",
    "        Longitude FLOAT(10, 2),\n",
    "               \n",
    "        PRIMARY KEY(id)\n",
    "    );\n",
    "\"\"\")"
   ]
  },
  {
   "cell_type": "code",
   "execution_count": null,
   "metadata": {},
   "outputs": [],
   "source": [
    "cursor.execute(\"USE dbproducts;\")\n",
    "cursor.execute(\"SHOW TABLES;\")\n",
    "\n",
    "for tb in cursor:\n",
    "    print(tb)"
   ]
  },
  {
   "cell_type": "markdown",
   "metadata": {},
   "source": [
    "# Saving data to MySQL table #"
   ]
  },
  {
   "cell_type": "markdown",
   "metadata": {},
   "source": [
    "Tranforming the values in a tuple"
   ]
  },
  {
   "cell_type": "code",
   "execution_count": null,
   "metadata": {},
   "outputs": [],
   "source": [
    "for i, row in df_books.iterrows():\n",
    "    # we only want the values of each how (not the key), so we tranform it into a tuple\n",
    "    print(tuple(row))"
   ]
  },
  {
   "cell_type": "code",
   "execution_count": null,
   "metadata": {},
   "outputs": [],
   "source": [
    "data_list = [tuple(row) for i, row in df_books.iterrows()]\n",
    "print(data_list)"
   ]
  },
  {
   "cell_type": "markdown",
   "metadata": {},
   "source": [
    "Defining the SQL command"
   ]
  },
  {
   "cell_type": "code",
   "execution_count": null,
   "metadata": {},
   "outputs": [],
   "source": [
    "sql = \"INSERT INTO dbproducts.tbbooks VALUES (%s,%s,%s,%s,%s,%s,%s,%s,%s,%s,%s,%s,%s);\"\n",
    "\n",
    "# adding the tuples as rows in the table\n",
    "cursor.executemany(sql, data_list)\n",
    "# execute a commit, because we are running an operation that changes data in the table\n",
    "connection.commit()"
   ]
  },
  {
   "cell_type": "markdown",
   "metadata": {},
   "source": [
    "Checking the data:"
   ]
  },
  {
   "cell_type": "code",
   "execution_count": null,
   "metadata": {},
   "outputs": [],
   "source": [
    "print(cursor.rowcount, \"inserted data\")"
   ]
  },
  {
   "cell_type": "markdown",
   "metadata": {},
   "source": [
    "# Products from 2021 table #"
   ]
  },
  {
   "cell_type": "code",
   "execution_count": null,
   "metadata": {},
   "outputs": [],
   "source": [
    "cursor.execute(\"\"\"\n",
    "    CREATE TABLE IF NOT EXISTS dbproducts.tb_products_2021(\n",
    "        id VARCHAR(100),\n",
    "        Produto VARCHAR(100),\n",
    "        Categoria_Produto VARCHAR(100),\n",
    "        Preco FLOAT(10, 2),\n",
    "        Frete FLOAT(10, 2),\n",
    "        Data_Compra DATE,\n",
    "        Vendedor VARCHAR(100),\n",
    "        Local_Compra VARCHAR(100),\n",
    "        Avaliacao_Compra INT,\n",
    "        Tipo_Pagamento VARCHAR(100),\n",
    "        Qntd_Parcelas INT,\n",
    "        Latitude FLOAT(10, 2),\n",
    "        Longitude FLOAT(10, 2),\n",
    "               \n",
    "        PRIMARY KEY(id)\n",
    "    );\n",
    "\"\"\")"
   ]
  },
  {
   "cell_type": "code",
   "execution_count": null,
   "metadata": {},
   "outputs": [],
   "source": [
    "cursor.execute(\"USE dbproducts;\")\n",
    "cursor.execute(\"SHOW TABLES;\")\n",
    "\n",
    "for tb in cursor:\n",
    "    print(tb)"
   ]
  },
  {
   "cell_type": "code",
   "execution_count": null,
   "metadata": {},
   "outputs": [],
   "source": [
    "df_products_2021 = pd.read_csv(\"/home/vanessaike/Estudos/pipeline-python-mongodb-mysql/data/table_products_from_2021.csv\")\n",
    "df_products_2021"
   ]
  },
  {
   "cell_type": "code",
   "execution_count": null,
   "metadata": {},
   "outputs": [],
   "source": [
    "products_list = [tuple(row) for i, row in df_products_2021.iterrows()]\n",
    "print(products_list)"
   ]
  },
  {
   "cell_type": "code",
   "execution_count": null,
   "metadata": {},
   "outputs": [],
   "source": [
    "sql = \"INSERT INTO dbproducts.tb_products_2021 VALUES (%s,%s,%s,%s,%s,%s,%s,%s,%s,%s,%s,%s,%s);\"\n",
    "cursor.executemany(sql, products_list)\n",
    "connection.commit()"
   ]
  },
  {
   "cell_type": "code",
   "execution_count": null,
   "metadata": {},
   "outputs": [],
   "source": [
    "print(cursor.rowcount, \"inserted data\")"
   ]
  },
  {
   "cell_type": "code",
   "execution_count": 17,
   "metadata": {},
   "outputs": [],
   "source": [
    "cursor.close()\n",
    "connection.close()"
   ]
  }
 ],
 "metadata": {
  "kernelspec": {
   "display_name": "venv",
   "language": "python",
   "name": "python3"
  },
  "language_info": {
   "codemirror_mode": {
    "name": "ipython",
    "version": 3
   },
   "file_extension": ".py",
   "mimetype": "text/x-python",
   "name": "python",
   "nbconvert_exporter": "python",
   "pygments_lexer": "ipython3",
   "version": "3.10.12"
  }
 },
 "nbformat": 4,
 "nbformat_minor": 2
}
